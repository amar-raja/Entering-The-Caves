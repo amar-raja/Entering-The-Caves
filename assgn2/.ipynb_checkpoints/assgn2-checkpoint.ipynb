{
 "cells": [
  {
   "cell_type": "code",
   "execution_count": 1,
   "id": "bd539e71",
   "metadata": {},
   "outputs": [],
   "source": [
    "from math import log"
   ]
  },
  {
   "cell_type": "code",
   "execution_count": 2,
   "id": "f76df2ba",
   "metadata": {},
   "outputs": [],
   "source": [
    "#DECRYPTION FUNCTION BASED ON THE MATRIX\n",
    "def rules_func(a,b):\n",
    "    \n",
    "    r1,c1 = ind[a]\n",
    "    r2,c2 = ind[b]\n",
    "    \n",
    "#     #new indices after decryption\n",
    "#     x1=y1=0    #for 1st letter of digram\n",
    "#     x2=y2=0  #for 2nd letter of digram\n",
    "    \n",
    "    if r1 == r2:     #BOTH LETTERS IN SAME ROW OF MATRIX\n",
    "        x1 = x2 =r1\n",
    "        y1 = (c1-1)%5       \n",
    "        y2 = (c2-1)%5\n",
    "    elif c1 == c2:     #BOTH LETTERS IN SAME COLUMN OF MATRIX\n",
    "        y1 = y2 = c1\n",
    "        x1 = (r1-1)%5\n",
    "        x2 = (r2-1)%5\n",
    "    else:\n",
    "        x1 = r1\n",
    "        y1 = c2\n",
    "        x2 = r2\n",
    "        y2 = c1\n",
    "    return matrix[x1][y1]+matrix[x2][y2]"
   ]
  },
  {
   "cell_type": "code",
   "execution_count": 3,
   "id": "806cd5a8",
   "metadata": {},
   "outputs": [],
   "source": [
    "#SCORE FUNCTION\n",
    "def score():\n",
    "    sc =0              #score\n",
    "    text = \"\"          #DECRYPTED TEXT\n",
    "    \n",
    "    for i in range(0,l,2):    #DECRYPTING each bigram\n",
    "        text+= rules_func(cipher[i],cipher[i+1])\n",
    "        \n",
    "    for i in range(len(text)-3):        #as last three letters cannot form quadgram\n",
    "        quad_gram = text[i:i+4]\n",
    "        \n",
    "        if quad_gram in quad:        \n",
    "            sc+=log(quad[quad_gram],10)\n",
    "    return sc"
   ]
  },
  {
   "cell_type": "code",
   "execution_count": 4,
   "id": "cb1cb8b5",
   "metadata": {},
   "outputs": [],
   "source": [
    "#MATRIX FILLING\n",
    "def matrix_formation(w):\n",
    "    i=j=0\n",
    "    alp=set('ABCDEFGHIKLMNOPQRSTUVWXYZ')\n",
    "    \n",
    "    #FILLING MATRIX BASED ON WORD(i.e possible key)\n",
    "    for k in range(len(w)):          \n",
    "        if w[k] in alp:                     \n",
    "            alp.remove(w[k])\n",
    "            matrix[i][j] = w[k]\n",
    "            \n",
    "            if j==4:        #END OF ROW\n",
    "                j=0\n",
    "                i+=1\n",
    "            else: j+=1\n",
    "                \n",
    "    #FILLING REMAINING ALPHABETS INTO MATRIX\n",
    "    for k in sorted(alp):\n",
    "        matrix[i][j] = k\n",
    "        \n",
    "        if j==4:        #END OF ROW\n",
    "            j=0\n",
    "            i+=1\n",
    "        else:\n",
    "            j+=1\n",
    "            \n",
    "    #ASSIGNING INDEX TO EACH ALPHABET OF THE MATRIX\n",
    "    for i in range(5):\n",
    "        for j in range(5):\n",
    "            ind[matrix[i][j]]=(i,j)\n",
    "    "
   ]
  },
  {
   "cell_type": "code",
   "execution_count": 5,
   "id": "1b086068",
   "metadata": {},
   "outputs": [],
   "source": [
    "#CREATING A DICTIONARY FOR QUADGRAMS\n",
    "quad ={}\n",
    "\n",
    "#READING FILE\n",
    "file = open(\"english_quadgrams.txt\")\n",
    "for i in file:\n",
    "    a,b = i.split()\n",
    "    quad[a] = int(b)\n",
    "\n",
    "#LENGTH OF THE QUADGRAM DICTIONARY\n",
    "n = len(quad)"
   ]
  },
  {
   "cell_type": "code",
   "execution_count": 6,
   "id": "74a8e172",
   "metadata": {},
   "outputs": [
    {
     "data": {
      "text/plain": [
       "416296"
      ]
     },
     "execution_count": 6,
     "metadata": {},
     "output_type": "execute_result"
    }
   ],
   "source": [
    "#PREPROCESSING \"words.txt file\"\n",
    "words=[]\n",
    "for i in open(\"words.txt\"):\n",
    "    i=i.upper().replace(\"\\n\",'')         #REPLACING NEWLINE CHAR\n",
    "    \n",
    "    #DEALING WITH ONLY ENGLISH_DICTIONARY WORDS\n",
    "    flag=True\n",
    "    for j in i:\n",
    "        if not (ord(j)>=65 and ord(j)<=90):\n",
    "            flag=False\n",
    "            break \n",
    "    if flag:\n",
    "        words.append(i)\n",
    "\n",
    "len(words)"
   ]
  },
  {
   "cell_type": "code",
   "execution_count": 7,
   "id": "b88d1e47",
   "metadata": {},
   "outputs": [],
   "source": [
    "#CIPHER TEXT\n",
    "cipher_text=\"DF ULYP XO CQD LFWC RUBHEDY, CQDYG LN XDYL EGIYIG LMP CQDYF. LYFNH HXPZ CQF YNILXKPB \\\"NDCB_AN_BBHCN\\\" PQ FQ CQPKZBK. OLC PMC UNUG YMB IPYDIDCQ OXY CMB LDZP AULHDFY. CX OALG RMB FWGI PMX BNTIP ZLSWS LFWFE PQ ZCYGY KIBAT XMNKI PMBYD.\"\n",
    "cipher=''\n",
    "\n",
    "#DEALING WITH ONLY ALPHABETS\n",
    "for i in cipher_text:\n",
    "    if ord(i)>=65 and ord(i)<=90:\n",
    "        cipher+=i \n",
    "l=len(cipher)"
   ]
  },
  {
   "cell_type": "code",
   "execution_count": 8,
   "id": "edb67141",
   "metadata": {},
   "outputs": [],
   "source": [
    "ind={}    #STORES INDEX OF EACH ALPHABET IN THE MATRIX\n",
    "sc=0      #SCORE\n",
    "matrix=[['' for i in range(5)] for j in range(5)]              #5*5 MATRIX\n",
    "keyword=''"
   ]
  },
  {
   "cell_type": "markdown",
   "id": "3b82963f",
   "metadata": {},
   "source": [
    "## FINDING KEY FOR PLAYFAIR CIPHER ANALYSIS"
   ]
  },
  {
   "cell_type": "code",
   "execution_count": 9,
   "id": "34bcd451",
   "metadata": {},
   "outputs": [
    {
     "name": "stdout",
     "output_type": "stream",
     "text": [
      "KEY IS: = >  CRYPTANALYSIS\n"
     ]
    }
   ],
   "source": [
    "for w in words:             #CHECKING FOR EACH WORD POSSIBILTY OF BEING A KEY\n",
    "    matrix_formation(w)\n",
    "    \n",
    "    new_sc=score()\n",
    "#     print('newsc is: ',new_sc)\n",
    "    if new_sc>sc:\n",
    "        sc=new_sc\n",
    "        keyword=w\n",
    "\n",
    "print(\"KEY IS: = > \",keyword)\n",
    "\n",
    "        "
   ]
  },
  {
   "cell_type": "markdown",
   "id": "839e09eb",
   "metadata": {},
   "source": [
    "## DECRYPTING WITH THE KEY \"CRYPTANALYSIS\""
   ]
  },
  {
   "cell_type": "code",
   "execution_count": 10,
   "id": "661d7a00",
   "metadata": {},
   "outputs": [],
   "source": [
    "# CREATING MATRIX WITH THE KEY\n",
    "matrix_formation(keyword)"
   ]
  },
  {
   "cell_type": "code",
   "execution_count": 11,
   "id": "26ddecb1",
   "metadata": {},
   "outputs": [],
   "source": [
    "#DECRYTING THE CIPHER TEXT WITH \"KEYWORD\"\n",
    "r=''\n",
    "for i in range(0,l,2):\n",
    "        r+=rules_func(cipher[i],cipher[i+1])"
   ]
  },
  {
   "cell_type": "code",
   "execution_count": 12,
   "id": "4453882a",
   "metadata": {},
   "outputs": [
    {
     "name": "stdout",
     "output_type": "stream",
     "text": [
      "BE WARY OF THE NEXT CHAMBER, THERE IS VERY LITTLE IOY THERE. SPEAK OUTX THE PASSWORD \"ABRA_CA_DABRA\" TO GO THROUGH. MAY YOU HAVE THE STRENGTH FOR THE NEXT CHAMBER. TO FIND THE EXIT YOU FIRST WILXL NEXED TO UTTER MAGIC WORDS THERE.\n"
     ]
    }
   ],
   "source": [
    "plain_text=''\n",
    "j=0\n",
    "for i in range(len(cipher_text)):\n",
    "    if ord(cipher_text[i])>=65 and ord(cipher_text[i])<=90:\n",
    "        plain_text+=r[j]\n",
    "        j+=1\n",
    "    else:\n",
    "        plain_text+=cipher_text[i]\n",
    "print(plain_text)"
   ]
  },
  {
   "cell_type": "code",
   "execution_count": 13,
   "id": "83ee0085",
   "metadata": {},
   "outputs": [],
   "source": [
    "#MANUAL CORRECTIONS\n",
    "plain_text = plain_text.replace(\"OUTX\",\"OUT\")\n",
    "plain_text = plain_text.replace(\"WILXL\",\"WILL\")\n",
    "plain_text = plain_text.replace(\"NEXED\",\"NEED\")\n",
    "\n",
    "plain_text = plain_text.replace(\"IOY\",\"JOY\")"
   ]
  },
  {
   "cell_type": "code",
   "execution_count": 14,
   "id": "20034fda",
   "metadata": {},
   "outputs": [
    {
     "data": {
      "text/plain": [
       "'BE WARY OF THE NEXT CHAMBER, THERE IS VERY LITTLE JOY THERE. SPEAK OUT THE PASSWORD \"ABRA_CA_DABRA\" TO GO THROUGH. MAY YOU HAVE THE STRENGTH FOR THE NEXT CHAMBER. TO FIND THE EXIT YOU FIRST WILL NEED TO UTTER MAGIC WORDS THERE.'"
      ]
     },
     "execution_count": 14,
     "metadata": {},
     "output_type": "execute_result"
    }
   ],
   "source": [
    "plain_text"
   ]
  },
  {
   "cell_type": "code",
   "execution_count": null,
   "id": "03b907e6",
   "metadata": {},
   "outputs": [],
   "source": []
  }
 ],
 "metadata": {
  "kernelspec": {
   "display_name": "Python 3",
   "language": "python",
   "name": "python3"
  },
  "language_info": {
   "codemirror_mode": {
    "name": "ipython",
    "version": 3
   },
   "file_extension": ".py",
   "mimetype": "text/x-python",
   "name": "python",
   "nbconvert_exporter": "python",
   "pygments_lexer": "ipython3",
   "version": "3.8.8"
  }
 },
 "nbformat": 4,
 "nbformat_minor": 5
}
