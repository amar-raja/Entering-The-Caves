{
 "cells": [
  {
   "cell_type": "code",
   "execution_count": 20,
   "id": "a63948f5",
   "metadata": {},
   "outputs": [],
   "source": [
    "# code = \"Gyq boch helhfhz lbh dwfil mbojnhf yd lbh mochi. Oi gyq moe ihh lbhfh wi eylbwep yd welhfhil we lbh mbojnhf. Iyjh yd lbh solhf mbojnhfi rwss nh jyfh welhfhilwep lboe lbwi yeh, w oj ihfwyqi. Lbh myzh qihz dyf lbwi jhiioph wi o iwjxsh iqnilwlqlwye mwxbhf we rbwmb zwpwli boch nhhe ibwdlhz ng 6 xsomhi. Dyf lbwi fyqez xoiiryfz wi pwche nhsyr, rwlbyql lbh kqylhi rgSd40Akfc\"\n",
    "\n",
    "# code = \"\"\"omkf pi hdn cmgef icphsck .H krg vphqkc c,\n",
    "#         fic mco kqgf ioqag eo qfcmckf oq ficpihdn\n",
    "#         cm .Kg dcgeficu hfcm pi hdn cmklo uuncdgmc\n",
    "#         oqfc mc kfoq afihqfiokgq c!Fi cpgy cvkc yeg\n",
    "#         mfio kdck kha cokh kodjuck vn k fofvfo\n",
    "#         gqpojicmoqli opiyoa of kihsc nccqki oefc\n",
    "#         ynr2 juhpck. Fi c jhkklgm yok oMxr9V1x ya\n",
    "#         flofigvffic xvgfck. Fio kokfice\"\"\"\n",
    "\n",
    "code = \"omkf pi hdn cmgef icphsck .H krg vphqkc c,fic mco kqgf ioqag eo qfcmckf oq ficpihdn cm .Kg dcgeficu hfcm pi hdn cmklo uuncdgmc oqfc mc kfoq afihqfiokgq c!Fi cpgy cvkc yeg mfio kdck kha cokh kodjuck vn k fofvfo gqpojicmoqli opiyoa of kihsc nccqki oefc ynr2 juhpck. Fi c jhkklgm yok oMxr9V1x ya flofigvffic xvgfck. Fio kokfice\"\n",
    "\n",
    "# print(len(code))  258 char without spaces\n",
    "lCode = code.lower()"
   ]
  },
  {
   "cell_type": "code",
   "execution_count": 21,
   "id": "8ace7c86",
   "metadata": {},
   "outputs": [],
   "source": [
    "alphabet = ['a', 'b', 'c', 'd', 'e', 'f', 'g', 'h', 'i', 'j', 'k', 'l', 'm',\n",
    "            'n', 'o', 'p', 'q', 'r', 's', 't', 'u', 'v', 'w', 'x', 'y', 'z']"
   ]
  },
  {
   "cell_type": "code",
   "execution_count": 22,
   "id": "567f3c9a",
   "metadata": {},
   "outputs": [],
   "source": [
    "# count frequencies of all letters in the code\n",
    "hits = [\n",
    "    (alphabet[i], lCode.count(alphabet[i]))\n",
    "    for i in range(len(alphabet))\n",
    "    if lCode.count(alphabet[i])\n",
    "]\n",
    "\n",
    "characterArray = list(lCode)"
   ]
  },
  {
   "cell_type": "code",
   "execution_count": 23,
   "id": "54febf99",
   "metadata": {},
   "outputs": [
    {
     "data": {
      "text/plain": [
       "[('a', 5),\n",
       " ('c', 36),\n",
       " ('d', 7),\n",
       " ('e', 6),\n",
       " ('f', 28),\n",
       " ('g', 14),\n",
       " ('h', 13),\n",
       " ('i', 22),\n",
       " ('j', 4),\n",
       " ('k', 27),\n",
       " ('l', 4),\n",
       " ('m', 13),\n",
       " ('n', 7),\n",
       " ('o', 25),\n",
       " ('p', 9),\n",
       " ('q', 12),\n",
       " ('r', 3),\n",
       " ('s', 2),\n",
       " ('u', 5),\n",
       " ('v', 7),\n",
       " ('x', 3),\n",
       " ('y', 6)]"
      ]
     },
     "execution_count": 23,
     "metadata": {},
     "output_type": "execute_result"
    }
   ],
   "source": [
    "hits"
   ]
  },
  {
   "cell_type": "code",
   "execution_count": 25,
   "id": "4b4f265b",
   "metadata": {},
   "outputs": [],
   "source": [
    "p=[i[1]/258*100 for i in hits]"
   ]
  },
  {
   "cell_type": "code",
   "execution_count": 26,
   "id": "8f5da047",
   "metadata": {},
   "outputs": [
    {
     "data": {
      "text/plain": [
       "[1.937984496124031,\n",
       " 13.953488372093023,\n",
       " 2.7131782945736433,\n",
       " 2.3255813953488373,\n",
       " 10.852713178294573,\n",
       " 5.426356589147287,\n",
       " 5.038759689922481,\n",
       " 8.527131782945736,\n",
       " 1.550387596899225,\n",
       " 10.465116279069768,\n",
       " 1.550387596899225,\n",
       " 5.038759689922481,\n",
       " 2.7131782945736433,\n",
       " 9.689922480620156,\n",
       " 3.488372093023256,\n",
       " 4.651162790697675,\n",
       " 1.1627906976744187,\n",
       " 0.7751937984496124,\n",
       " 1.937984496124031,\n",
       " 2.7131782945736433,\n",
       " 1.1627906976744187,\n",
       " 2.3255813953488373]"
      ]
     },
     "execution_count": 26,
     "metadata": {},
     "output_type": "execute_result"
    }
   ],
   "source": [
    "p"
   ]
  },
  {
   "cell_type": "code",
   "execution_count": 15,
   "id": "cb4846b3",
   "metadata": {},
   "outputs": [
    {
     "data": {
      "text/plain": [
       "258"
      ]
     },
     "execution_count": 15,
     "metadata": {},
     "output_type": "execute_result"
    }
   ],
   "source": [
    "c"
   ]
  },
  {
   "cell_type": "code",
   "execution_count": 13,
   "id": "636f0df9",
   "metadata": {},
   "outputs": [
    {
     "data": {
      "text/plain": [
       "324"
      ]
     },
     "execution_count": 13,
     "metadata": {},
     "output_type": "execute_result"
    }
   ],
   "source": [
    "len(characterArray)"
   ]
  },
  {
   "cell_type": "code",
   "execution_count": null,
   "id": "f3f1525a",
   "metadata": {},
   "outputs": [],
   "source": []
  },
  {
   "cell_type": "code",
   "execution_count": null,
   "id": "21083453",
   "metadata": {},
   "outputs": [],
   "source": [
    "plainText = [];\n",
    "for i in range(len(characterArray)):\n",
    "    if(characterArray[i] == 'h'):\n",
    "        plainText.append('e')\n",
    "    elif (characterArray[i] == 'l'):\n",
    "        plainText.append('t')\n",
    "    elif (characterArray[i] == 'b'):\n",
    "        plainText.append('h')\n",
    "    elif (characterArray[i] == ' '):\n",
    "        plainText.append('    ')\n",
    "    else:\n",
    "        plainText.append('_')\n",
    "\n",
    "print(''.join(plainText))"
   ]
  }
 ],
 "metadata": {
  "kernelspec": {
   "display_name": "Python 3",
   "language": "python",
   "name": "python3"
  },
  "language_info": {
   "codemirror_mode": {
    "name": "ipython",
    "version": 3
   },
   "file_extension": ".py",
   "mimetype": "text/x-python",
   "name": "python",
   "nbconvert_exporter": "python",
   "pygments_lexer": "ipython3",
   "version": "3.8.8"
  }
 },
 "nbformat": 4,
 "nbformat_minor": 5
}
