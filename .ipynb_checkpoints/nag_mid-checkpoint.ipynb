{
 "cells": [
  {
   "cell_type": "markdown",
   "metadata": {},
   "source": [
    "Hexadecimal to binary conversion"
   ]
  },
  {
   "cell_type": "code",
   "execution_count": null,
   "metadata": {},
   "outputs": [],
   "source": [
    "def hex2bin(s):\n",
    "    mp = {'0' : \"0000\",\n",
    "        '1' : \"0001\",\n",
    "        '2' : \"0010\",\n",
    "        '3' : \"0011\",\n",
    "        '4' : \"0100\",\n",
    "        '5' : \"0101\",\n",
    "        '6' : \"0110\",\n",
    "        '7' : \"0111\",\n",
    "        '8' : \"1000\",\n",
    "        '9' : \"1001\",\n",
    "        'A' : \"1010\",\n",
    "        'B' : \"1011\",\n",
    "        'C' : \"1100\",\n",
    "        'D' : \"1101\",\n",
    "        'E' : \"1110\",\n",
    "        'F' : \"1111\" }\n",
    "    bin = \"\"\n",
    "    for i in range(len(s)):\n",
    "        bin = bin + mp[s[i]]\n",
    "    return bin\n",
    "    "
   ]
  },
  {
   "cell_type": "code",
   "execution_count": null,
   "metadata": {},
   "outputs": [],
   "source": [
    "# Binary to hexadecimal conversion\n",
    "def bin2hex(s):\n",
    "    mp = {\"0000\" : '0',\n",
    "        \"0001\" : '1',\n",
    "        \"0010\" : '2',\n",
    "        \"0011\" : '3',\n",
    "        \"0100\" : '4',\n",
    "        \"0101\" : '5',\n",
    "        \"0110\" : '6',\n",
    "        \"0111\" : '7',\n",
    "        \"1000\" : '8',\n",
    "        \"1001\" : '9',\n",
    "        \"1010\" : 'A',\n",
    "        \"1011\" : 'B',\n",
    "        \"1100\" : 'C',\n",
    "        \"1101\" : 'D',\n",
    "        \"1110\" : 'E',\n",
    "        \"1111\" : 'F' }\n",
    "\thex = \"\"\n",
    "\tfor i in range(0,len(s),4):\n",
    "\t\tch = \"\"\n",
    "\t\tch = ch + s[i]\n",
    "\t\tch = ch + s[i + 1]\n",
    "\t\tch = ch + s[i + 2]\n",
    "\t\tch = ch + s[i + 3]\n",
    "\t\thex = hex + mp[ch]\n",
    "\t\t\n",
    "\treturn hex"
   ]
  },
  {
   "cell_type": "markdown",
   "metadata": {},
   "source": [
    "Binary to decimal conversion"
   ]
  },
  {
   "cell_type": "code",
   "execution_count": null,
   "metadata": {},
   "outputs": [],
   "source": [
    "def bin2dec(binary):\n",
    "\t\n",
    "\tbinary1 = binary\n",
    "\tdecimal, i, n = 0, 0, 0\n",
    "\twhile(binary != 0):\n",
    "\t\tdec = binary % 10\n",
    "\t\tdecimal = decimal + dec * pow(2, i)\n",
    "\t\tbinary = binary//10\n",
    "\t\ti += 1\n",
    "\treturn decimal"
   ]
  },
  {
   "cell_type": "markdown",
   "metadata": {},
   "source": [
    "Decimal to binary conversion"
   ]
  },
  {
   "cell_type": "code",
   "execution_count": null,
   "metadata": {},
   "outputs": [],
   "source": [
    "def dec2bin(num):\n",
    "\tres = bin(num).replace(\"0b\", \"\")\n",
    "\tif(len(res)%4 != 0):\n",
    "\t\tdiv = len(res) / 4\n",
    "\t\tdiv = int(div)\n",
    "\t\tcounter =(4 * (div + 1)) - len(res)\n",
    "\t\tfor i in range(0, counter):\n",
    "\t\t\tres = '0' + res\n",
    "\treturn res"
   ]
  },
  {
   "cell_type": "markdown",
   "metadata": {},
   "source": [
    "Permute function to rearrange the bits"
   ]
  },
  {
   "cell_type": "code",
   "execution_count": null,
   "metadata": {},
   "outputs": [],
   "source": [
    "def permute(k, arr, n):\n",
    "\tpermutation = \"\"\n",
    "\tfor i in range(0, n):\n",
    "\t\tpermutation = permutation + k[arr[i] - 1]\n",
    "\treturn permutation"
   ]
  },
  {
   "cell_type": "markdown",
   "metadata": {},
   "source": [
    "shifting the bits towards left by nth shifts"
   ]
  },
  {
   "cell_type": "code",
   "execution_count": null,
   "metadata": {},
   "outputs": [],
   "source": [
    "def shift_left(k, nth_shifts):\n",
    "\ts = \"\"\n",
    "\tfor i in range(nth_shifts):\n",
    "\t\tfor j in range(1,len(k)):\n",
    "\t\t\ts = s + k[j]\n",
    "\t\ts = s + k[0]\n",
    "\t\tk = s\n",
    "\t\ts = \"\"\n",
    "\treturn k"
   ]
  },
  {
   "cell_type": "markdown",
   "metadata": {},
   "source": [
    "calculating xow of two strings of binary number a and b"
   ]
  },
  {
   "cell_type": "code",
   "execution_count": null,
   "metadata": {},
   "outputs": [],
   "source": [
    "def xor(a, b):\n",
    "\tans = \"\"\n",
    "\tfor i in range(len(a)):\n",
    "\t\tif a[i] == b[i]:\n",
    "\t\t\tans = ans + \"0\"\n",
    "\t\telse:\n",
    "\t\t\tans = ans + \"1\"\n",
    "\treturn ans"
   ]
  },
  {
   "cell_type": "markdown",
   "metadata": {},
   "source": [
    "Table of Position of 64 bits at initial level: Initial Permutation Table"
   ]
  },
  {
   "cell_type": "code",
   "execution_count": null,
   "metadata": {},
   "outputs": [],
   "source": [
    "initial_perm = [58, 50, 42, 34, 26, 18, 10, 2,\n",
    "\t\t\t\t60, 52, 44, 36, 28, 20, 12, 4,\n",
    "\t\t\t\t62, 54, 46, 38, 30, 22, 14, 6,\n",
    "\t\t\t\t64, 56, 48, 40, 32, 24, 16, 8,\n",
    "\t\t\t\t57, 49, 41, 33, 25, 17, 9, 1,\n",
    "\t\t\t\t59, 51, 43, 35, 27, 19, 11, 3,\n",
    "\t\t\t\t61, 53, 45, 37, 29, 21, 13, 5,\n",
    "\t\t\t\t63, 55, 47, 39, 31, 23, 15, 7]"
   ]
  },
  {
   "cell_type": "markdown",
   "metadata": {},
   "source": [
    "Expansion D-box Table"
   ]
  },
  {
   "cell_type": "code",
   "execution_count": null,
   "metadata": {},
   "outputs": [],
   "source": [
    "exp_d = [32, 1 , 2 , 3 , 4 , 5 , 4 , 5,\n",
    "\t\t6 , 7 , 8 , 9 , 8 , 9 , 10, 11,\n",
    "\t\t12, 13, 12, 13, 14, 15, 16, 17,\n",
    "\t\t16, 17, 18, 19, 20, 21, 20, 21,\n",
    "\t\t22, 23, 24, 25, 24, 25, 26, 27,\n",
    "\t\t28, 29, 28, 29, 30, 31, 32, 1 ]"
   ]
  },
  {
   "cell_type": "markdown",
   "metadata": {},
   "source": [
    "Straight Permutation Table"
   ]
  },
  {
   "cell_type": "code",
   "execution_count": null,
   "metadata": {},
   "outputs": [],
   "source": [
    "per = [ 16, 7, 20, 21,\n",
    "\t\t29, 12, 28, 17,\n",
    "\t\t1, 15, 23, 26,\n",
    "\t\t5, 18, 31, 10,\n",
    "\t\t2, 8, 24, 14,\n",
    "\t\t32, 27, 3, 9,\n",
    "\t\t19, 13, 30, 6,\n",
    "\t\t22, 11, 4, 25 ]"
   ]
  },
  {
   "cell_type": "markdown",
   "metadata": {},
   "source": [
    "S-box Table"
   ]
  },
  {
   "cell_type": "markdown",
   "metadata": {},
   "source": [
    "Final Permutation Table"
   ]
  },
  {
   "cell_type": "code",
   "execution_count": null,
   "metadata": {},
   "outputs": [],
   "source": [
    "final_perm = [ 40, 8, 48, 16, 56, 24, 64, 32,\n",
    "\t\t\t39, 7, 47, 15, 55, 23, 63, 31,\n",
    "\t\t\t38, 6, 46, 14, 54, 22, 62, 30,\n",
    "\t\t\t37, 5, 45, 13, 53, 21, 61, 29,\n",
    "\t\t\t36, 4, 44, 12, 52, 20, 60, 28,\n",
    "\t\t\t35, 3, 43, 11, 51, 19, 59, 27,\n",
    "\t\t\t34, 2, 42, 10, 50, 18, 58, 26,\n",
    "\t\t\t33, 1, 41, 9, 49, 17, 57, 25 ]\n",
    "def sbox(b):\n",
    "    return str(b[0]^(b[1] and b[2] and b[3]))+str((b[2] and b[3] and b[4]) ^ b[5])+str(b[0]^(b[3] and b[4] and b[1]))+ str((b[4] and b[1] and b[2])^b[5])\n",
    "def encrypt(pt, rkb, rk):\n",
    "\t#pt = hex2bin(pt)\n",
    "\tzzz=pt\n",
    "\t# Initial Permutation\n",
    "\tpt = permute(pt, initial_perm, 64)\n",
    "\t#print(\"After initial permutation\", bin2hex(pt))\n",
    "\t\n",
    "\t# Splitting\n",
    "\tleft = pt[0:32]\n",
    "\tright = pt[32:64]\n",
    "\trounds=16\n",
    "\tprob=1\n",
    "\tfor i in range(0, rounds):\n",
    "\t\t# Expansion D-box: Expanding the 32 bits data into 48 bits\n",
    "\t\t\n",
    "\t\tright_expanded = permute(right, exp_d, 48)\n",
    "\t\t\n",
    "\t\t# XOR RoundKey[i] and right_expanded\n",
    "\t\t#xor_x = xor(right_expanded, rkb[i])\n",
    "\t\txor_x = right_expanded\n",
    "\n",
    "\t\t# S-boxex: substituting the value from s-box table by calculating row and column\n",
    "\t\tsbox_str = \"\"\n",
    "\t\tfor j in range(0, 8):\n",
    "\t\t\taa=xor_x[j*6:j*6+6]\n",
    "\t\t\t#sbox_str +=sbox([int(qqq) for qqq in aa])\n",
    "\t\t\taaa,bbb=max((f[int(aa,2)][kkk],kkk) for kkk in range(len(f[int(aa,2)])))\n",
    "\t\t\tprob*=aaa \n",
    "\t\t\tbbb=bin(bbb)[2:]\n",
    "\t\t\tbbb='0'*(4-len(bbb))+bbb\n",
    "\t\t\tsbox_str  += bbb \n",
    "\n",
    "\t\t\t\n",
    "\t\t# Straight D-box: After substituting rearranging the bits\n",
    "\t\tsbox_str = permute(sbox_str, per, 32)\n",
    "\t\t\n",
    "\t\t# XOR left and sbox_str\n",
    "\t\tresult = xor(left, sbox_str)\n",
    "\t\tleft = result\n",
    "\t\t\n",
    "\t\t# Swapper\n",
    "\t\tif(i != rounds-1):\n",
    "\t\t\tleft, right = right, left\n",
    "\t\t#print('left right are',left,right)\n",
    "\t\t#print(\"Round \", i + 1, \" \", bin2hex(left), \" \", bin2hex(right), \" \", rk[i])\n",
    "\t#print('pt and prob' is pt,prob)\n",
    "\tglobal maaa \n",
    "\tmaaa= max(maaa, (prob,zzz))\n",
    "\tres.append((prob,zzz,left+right))\n",
    "\t# Combination\n",
    "\tcombine = left + right\n",
    "\t\n",
    "\t# Final permutation: final rearranging of bits to get cipher text\n",
    "\tcipher_text = permute(combine, final_perm, 64)\n",
    "\treturn cipher_text"
   ]
  },
  {
   "cell_type": "code",
   "execution_count": null,
   "metadata": {},
   "outputs": [],
   "source": [
    "maaa=(0,'')\n",
    "pt =  \"D000000000000000\"\n",
    "key = \"AABB09182736CCDD\""
   ]
  },
  {
   "cell_type": "markdown",
   "metadata": {},
   "source": [
    "Key generation<br>\n",
    "--hex to binary"
   ]
  },
  {
   "cell_type": "code",
   "execution_count": null,
   "metadata": {},
   "outputs": [],
   "source": [
    "key = hex2bin(key)"
   ]
  },
  {
   "cell_type": "markdown",
   "metadata": {},
   "source": [
    "--parity bit drop table"
   ]
  },
  {
   "cell_type": "code",
   "execution_count": null,
   "metadata": {},
   "outputs": [],
   "source": [
    "keyp = [57, 49, 41, 33, 25, 17, 9,\n",
    "\t\t1, 58, 50, 42, 34, 26, 18,\n",
    "\t\t10, 2, 59, 51, 43, 35, 27,\n",
    "\t\t19, 11, 3, 60, 52, 44, 36,\n",
    "\t\t63, 55, 47, 39, 31, 23, 15,\n",
    "\t\t7, 62, 54, 46, 38, 30, 22,\n",
    "\t\t14, 6, 61, 53, 45, 37, 29,\n",
    "\t\t21, 13, 5, 28, 20, 12, 4 ]"
   ]
  },
  {
   "cell_type": "markdown",
   "metadata": {},
   "source": [
    "getting 56 bit key from 64 bit using the parity bits"
   ]
  },
  {
   "cell_type": "code",
   "execution_count": null,
   "metadata": {},
   "outputs": [],
   "source": [
    "key = permute(key, keyp, 56)"
   ]
  },
  {
   "cell_type": "markdown",
   "metadata": {},
   "source": [
    "Number of bit shifts"
   ]
  },
  {
   "cell_type": "code",
   "execution_count": null,
   "metadata": {},
   "outputs": [],
   "source": [
    "shift_table = [1, 1, 2, 2,\n",
    "\t\t\t\t2, 2, 2, 2,\n",
    "\t\t\t\t1, 2, 2, 2,\n",
    "\t\t\t\t2, 2, 2, 1 ]"
   ]
  },
  {
   "cell_type": "markdown",
   "metadata": {},
   "source": [
    "Key- Compression Table : Compression of key from 56 bits to 48 bits"
   ]
  },
  {
   "cell_type": "code",
   "execution_count": null,
   "metadata": {},
   "outputs": [],
   "source": [
    "key_comp = [14, 17, 11, 24, 1, 5,\n",
    "\t\t\t3, 28, 15, 6, 21, 10,\n",
    "\t\t\t23, 19, 12, 4, 26, 8,\n",
    "\t\t\t16, 7, 27, 20, 13, 2,\n",
    "\t\t\t41, 52, 31, 37, 47, 55,\n",
    "\t\t\t30, 40, 51, 45, 33, 48,\n",
    "\t\t\t44, 49, 39, 56, 34, 53,\n",
    "\t\t\t46, 42, 50, 36, 29, 32 ]"
   ]
  },
  {
   "cell_type": "markdown",
   "metadata": {},
   "source": [
    "Splitting"
   ]
  },
  {
   "cell_type": "code",
   "execution_count": null,
   "metadata": {},
   "outputs": [],
   "source": [
    "left = key[0:28] # rkb for RoundKeys in binary\n",
    "right = key[28:56] # rk for RoundKeys in hexadecimal"
   ]
  },
  {
   "cell_type": "code",
   "execution_count": null,
   "metadata": {},
   "outputs": [],
   "source": [
    "rkb = []\n",
    "rk = []\n",
    "for i in range(0, 16):\n",
    "\t# Shifting the bits by nth shifts by checking from shift table\n",
    "\tleft = shift_left(left, shift_table[i])\n",
    "\tright = shift_left(right, shift_table[i])\n",
    "\t\n",
    "\t# Combination of left and right string\n",
    "\tcombine_str = left + right\n",
    "\t\n",
    "\t# Compression of key from 56 to 48 bits\n",
    "\tround_key = permute(combine_str, key_comp, 48)\n",
    "\n",
    "\trkb.append(round_key)\n",
    "\trk.append(bin2hex(round_key))\n",
    "def func(b):\n",
    "    return int(str(b[0]^(b[1] and b[2] and b[3]))+str((b[2] and b[3] and b[4]) ^ b[5])+str(b[0]^(b[3] and b[4] and b[1]))+\n",
    "    str((b[4] and b[1] and b[2])^b[5]),2)\n",
    "f=[[0 for i in range(16)] for j in range(64)]\n",
    "def conv(i):\n",
    "    z=bin(i)[2:]\n",
    "    return [int(j) for j in '0'*(6-len(z))+z ]\n",
    "for i in range(64):\n",
    "    for j in range(64):\n",
    "        f[i^j][func(conv(i))^func(conv(j))]+=1"
   ]
  },
  {
   "cell_type": "code",
   "execution_count": null,
   "metadata": {},
   "outputs": [],
   "source": [
    "from math import log\n",
    "res=[]\n",
    "for i in range(2,2**10):\n",
    "\taa=bin(i)[2:]\n",
    "\taa='0'*(16-len(aa))+aa+'0'*48\n",
    "\tencrypt(aa,rkb,rk)\n",
    "\tzzz=maaa[1][:16]\t\n",
    "\tprint(i,log(maaa[0],2),zzz,end='\\r')\n",
    "zzz=maaa[1][:16]\n",
    "print(log(maaa[0],2),zzz,end='\\r')\n",
    "res.sort(reverse=True)\n",
    "print([(i/(2**768),k) for i,j,k in res[:10]])"
   ]
  }
 ],
 "metadata": {
  "kernelspec": {
   "display_name": "Python 3",
   "language": "python",
   "name": "python3"
  },
  "language_info": {
   "codemirror_mode": {
    "name": "ipython",
    "version": 3
   },
   "file_extension": ".py",
   "mimetype": "text/x-python",
   "name": "python",
   "nbconvert_exporter": "python",
   "pygments_lexer": "ipython3",
   "version": "3.8.8"
  }
 },
 "nbformat": 4,
 "nbformat_minor": 2
}
