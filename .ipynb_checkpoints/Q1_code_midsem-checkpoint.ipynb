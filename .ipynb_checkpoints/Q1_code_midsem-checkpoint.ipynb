{
 "cells": [
  {
   "cell_type": "code",
   "execution_count": 21,
   "id": "99fb0929",
   "metadata": {},
   "outputs": [],
   "source": [
    "#AND operation\n",
    "def AND(e1,e2,e3):        \n",
    "    if (e1=='0' or e2=='0' or e3=='0'):\n",
    "        return '0'\n",
    "    else:\n",
    "        return '1'\n",
    "    \n",
    "#XOR opereation\n",
    "def XOR(e1,e2):                    \n",
    "    if e1==e2:\n",
    "        return '0'\n",
    "    else:\n",
    "        return '1'"
   ]
  },
  {
   "cell_type": "code",
   "execution_count": 22,
   "id": "473d2d7a",
   "metadata": {},
   "outputs": [],
   "source": [
    "exp_d = [31,  0,  1,  2,  3,  4,  3,  4,  5,  6,  7,  8,  7,  8,  9, 10, 11,\n",
    "       12, 11, 12, 13, 14, 15, 16, 15, 16, 17, 18, 19, 20, 19, 20, 21, 22,\n",
    "       23, 24, 23, 24, 25, 26, 27, 28, 27, 28, 29, 30, 31,  0]\n"
   ]
  },
  {
   "cell_type": "code",
   "execution_count": 23,
   "id": "6ecdb699",
   "metadata": {},
   "outputs": [],
   "source": [
    "per = [15,  6, 19, 20, 28, 11, 27, 16,  0, 14, 22, 25,  4, 17, 30,  9,  1,\n",
    "        7, 23, 13, 31, 26,  2,  8, 18, 12, 29,  5, 21, 10,  3, 24]"
   ]
  },
  {
   "cell_type": "code",
   "execution_count": 24,
   "id": "103b69ab",
   "metadata": {},
   "outputs": [],
   "source": [
    "#EXPANSION OPERATION\n",
    "def expansion(b):\n",
    "    exp = ''\n",
    "    for ind in exp_d:\n",
    "        exp+=b[ind]\n",
    "    return exp"
   ]
  },
  {
   "cell_type": "code",
   "execution_count": 25,
   "id": "ecd9e40b",
   "metadata": {},
   "outputs": [],
   "source": [
    "#PERMUTATION OPERATION\n",
    "def permutation(b):\n",
    "    perm=''    \n",
    "    for ind in per:\n",
    "        perm += b[ind]\n",
    "    return perm"
   ]
  },
  {
   "cell_type": "code",
   "execution_count": 26,
   "id": "15e8668f",
   "metadata": {},
   "outputs": [],
   "source": [
    "#S-BOX OPERATION\n",
    "def s_box(b):             \n",
    "    output = ''             \n",
    "    output += (XOR (b[0] ,AND(b[1], b[2], b[3])))\n",
    "    output += (XOR (b[5] ,AND(b[2], b[3], b[4])))\n",
    "    output += (XOR (b[0] ,AND(b[3], b[4], b[1])))\n",
    "    output += (XOR (b[5] ,AND(b[4], b[1], b[2])))\n",
    "    \n",
    "    return output"
   ]
  },
  {
   "cell_type": "code",
   "execution_count": 27,
   "id": "9b3cfaff",
   "metadata": {},
   "outputs": [],
   "source": [
    "def xor_bitwise(e1,e2):            #gives xor value of i/p pairs\n",
    "    op=''\n",
    "    for i in range(len(e1)):\n",
    "        op += XOR(e1[i],e2[i])\n",
    "    return op"
   ]
  },
  {
   "cell_type": "code",
   "execution_count": 28,
   "id": "89d07edf",
   "metadata": {},
   "outputs": [],
   "source": [
    "#all 2^6 comb are stored for 6bits\n",
    "all_xors=[]\n",
    "for i in range(64):\n",
    "    all_xors.append(\"{0:06b}\".format(i))"
   ]
  },
  {
   "cell_type": "code",
   "execution_count": null,
   "id": "3d587f86",
   "metadata": {},
   "outputs": [],
   "source": []
  },
  {
   "cell_type": "code",
   "execution_count": 29,
   "id": "7042c98e",
   "metadata": {},
   "outputs": [],
   "source": [
    "#for a specific xor value what COMBINATIONS OF i/p gives us\n",
    "d={}\n",
    "for i in all_xors:\n",
    "    t = []\n",
    "    \n",
    "    for j in all_xors:    \n",
    "        ip_pairs = xor_bitwise(j,i)\n",
    "        t.append((j,ip_pairs))\n",
    "    d[i] = t\n",
    "\n",
    "#for every o/p xor value we will have 64 combinations of plaintext pairs"
   ]
  },
  {
   "cell_type": "code",
   "execution_count": null,
   "id": "a594c71c",
   "metadata": {},
   "outputs": [],
   "source": []
  },
  {
   "cell_type": "code",
   "execution_count": 30,
   "id": "f95207b2",
   "metadata": {},
   "outputs": [],
   "source": [
    "probability={}\n",
    "\n",
    "for key,val in d.items():\n",
    "    xor_prob={}\n",
    "    \n",
    "    for j in val:\n",
    "        s0 = s_box(j[0])\n",
    "        s1 = s_box(j[1])\n",
    "        \n",
    "        #XOR OF OUTPUT 4 BITS\n",
    "        s_xor = xor_bitwise(s0,s1)\n",
    "        \n",
    "        #CALCULATING FREQ\n",
    "        if s_xor in xor_prob:\n",
    "            xor_prob[s_xor]+=1\n",
    "        else:\n",
    "            xor_prob[s_xor]=1\n",
    "    \n",
    "    probability[key] = xor_prob"
   ]
  },
  {
   "cell_type": "code",
   "execution_count": null,
   "id": "aa742b44",
   "metadata": {},
   "outputs": [],
   "source": []
  },
  {
   "cell_type": "code",
   "execution_count": 31,
   "id": "2f9ce213",
   "metadata": {},
   "outputs": [],
   "source": [
    "#possible intial values\n",
    "l_xor=[]\n",
    "for i in range(2**22):                  #2^22 as 2^32 values lead to out of memory\n",
    "    l_xor.append(f'{i:0{32}b}')\n"
   ]
  },
  {
   "cell_type": "code",
   "execution_count": 32,
   "id": "2b3abca9",
   "metadata": {},
   "outputs": [],
   "source": [
    "#expansion and s-box\n",
    "def exp_sbox(r):\n",
    "    op=''\n",
    "    prob=1\n",
    "    \n",
    "    #expansion\n",
    "    e=expansion(r)\n",
    "    \n",
    "    for i in range(0,len(e),6):\n",
    "        p=probability[e[i:i+6]]\n",
    "        \n",
    "        max_op = ''\n",
    "        max_count = 0\n",
    "        \n",
    "        for k,v in p.items():\n",
    "            if v > max_count:\n",
    "                max_count = v\n",
    "                max_op = k\n",
    "\n",
    "        op+=max_op\n",
    "\n",
    "        prob*=(p[max_op]/64)\n",
    "    return op,prob"
   ]
  },
  {
   "cell_type": "code",
   "execution_count": 33,
   "id": "9dae8d1f",
   "metadata": {},
   "outputs": [],
   "source": [
    "#14-round characteristic\n",
    "characteristic =[]"
   ]
  },
  {
   "cell_type": "code",
   "execution_count": 34,
   "id": "82771d8a",
   "metadata": {},
   "outputs": [],
   "source": [
    "#circuit of all rounds\n",
    "def des16(l,r,flag=0):\n",
    "    tot_prob = 1\n",
    "     \n",
    "    for i in range(14):   \n",
    "        #expansion and s-box\n",
    "        s_op , p = exp_sbox(r)                 \n",
    "        \n",
    "        if flag == 1:\n",
    "            characteristic.append(l)\n",
    "            characteristic.append(r)\n",
    "            characteristic.append(p)\n",
    "            \n",
    "        tot_prob*=p\n",
    "        \n",
    "        #permutation\n",
    "        p=permutation(s_op)\n",
    "        \n",
    "        temp=r\n",
    "        \n",
    "        #XOR operation\n",
    "        r = xor_bitwise(p,l)\n",
    "        \n",
    "        l=temp\n",
    "        \n",
    "    #NUMBER OF PLAINTEXT PAIRS\n",
    "    txts = 20/tot_prob\n",
    "    \n",
    "    #getting nearest 2^x\n",
    "    c=1\n",
    "    for x in range(100):\n",
    "        c*=2\n",
    "        if c>txts:\n",
    "            return x                     #highest x is returned\n",
    "        \n",
    "    return 10**6"
   ]
  },
  {
   "cell_type": "code",
   "execution_count": 35,
   "id": "52cfbf25",
   "metadata": {},
   "outputs": [
    {
     "name": "stdout",
     "output_type": "stream",
     "text": [
      "Number of text pairs required\n",
      "2 power 60\n",
      "j is : 1\n",
      "\n",
      "\n",
      "Number of text pairs required\n",
      "2 power 11\n",
      "j is : 2\n",
      "\n",
      "\n"
     ]
    }
   ],
   "source": [
    "opt_power = 0\n",
    "optimal_ip_xor = 0\n",
    "\n",
    "val=10**9\n",
    "for j in range(1,2**14):\n",
    "    \n",
    "    t = des16(l_xor[j],'00000000000000000000000000000000')        #for 14\n",
    "    if t<val:\n",
    "        print(\"Number of text pairs required\")\n",
    "        print('2 power',t)\n",
    "        print('j is :',j)\n",
    "        print('\\n')\n",
    "        \n",
    "        opt_power = t\n",
    "        optimal_ip_xor = j\n",
    "        \n",
    "        val=t"
   ]
  },
  {
   "cell_type": "code",
   "execution_count": 36,
   "id": "afabbbb6",
   "metadata": {},
   "outputs": [
    {
     "name": "stdout",
     "output_type": "stream",
     "text": [
      "Optimal XOR value for L0 at initila stage is : 00000000000000000000000000000010\n"
     ]
    }
   ],
   "source": [
    "print('Optimal XOR value for L0 at initila stage is :',l_xor[optimal_ip_xor])"
   ]
  },
  {
   "cell_type": "code",
   "execution_count": 37,
   "id": "ee670153",
   "metadata": {},
   "outputs": [
    {
     "data": {
      "text/plain": [
       "11"
      ]
     },
     "execution_count": 37,
     "metadata": {},
     "output_type": "execute_result"
    }
   ],
   "source": [
    "#DES16 with the optimal probability XOR value\n",
    "\n",
    "l0 = l_xor[optimal_ip_xor]\n",
    "r0 = '00000000000000000000000000000000'\n",
    "des16(l0,r0,1)\n",
    "#"
   ]
  },
  {
   "cell_type": "code",
   "execution_count": 38,
   "id": "38536bcf",
   "metadata": {
    "scrolled": true
   },
   "outputs": [
    {
     "name": "stdout",
     "output_type": "stream",
     "text": [
      "14 ROUND CHARACGERISTIC is: \n",
      "['00000000000000000000000000000010', '00000000000000000000000000000000', 1.0, '00000000000000000000000000000000', '00000000000000000000000000000010', 0.5, '00000000000000000000000000000010', '00000000000000000000000000000000', 1.0, '00000000000000000000000000000000', '00000000000000000000000000000010', 0.5, '00000000000000000000000000000010', '00000000000000000000000000000000', 1.0, '00000000000000000000000000000000', '00000000000000000000000000000010', 0.5, '00000000000000000000000000000010', '00000000000000000000000000000000', 1.0, '00000000000000000000000000000000', '00000000000000000000000000000010', 0.5, '00000000000000000000000000000010', '00000000000000000000000000000000', 1.0, '00000000000000000000000000000000', '00000000000000000000000000000010', 0.5, '00000000000000000000000000000010', '00000000000000000000000000000000', 1.0, '00000000000000000000000000000000', '00000000000000000000000000000010', 0.5, '00000000000000000000000000000010', '00000000000000000000000000000000', 1.0, '00000000000000000000000000000000', '00000000000000000000000000000010']"
     ]
    }
   ],
   "source": [
    "print(\"14 ROUND CHARACGERISTIC is: \")\n",
    "print(characteristic[:-1],end='')"
   ]
  },
  {
   "cell_type": "code",
   "execution_count": 39,
   "id": "ca22c30b",
   "metadata": {},
   "outputs": [
    {
     "data": {
      "text/plain": [
       "14.0"
      ]
     },
     "execution_count": 39,
     "metadata": {},
     "output_type": "execute_result"
    }
   ],
   "source": [
    "len(characteristic)/3"
   ]
  },
  {
   "cell_type": "code",
   "execution_count": null,
   "id": "097c8c11",
   "metadata": {},
   "outputs": [],
   "source": []
  },
  {
   "cell_type": "code",
   "execution_count": 40,
   "id": "9dce51f0",
   "metadata": {},
   "outputs": [
    {
     "name": "stdout",
     "output_type": "stream",
     "text": [
      "PROBABILITY OF CHARACTERISTIC is :  0.0078125\n"
     ]
    }
   ],
   "source": [
    "#PROBABILITY OF CHARACTERISTIC\n",
    "s=1\n",
    "for i in range(2,len(characteristic),3):\n",
    "    s *= characteristic[i]\n",
    "\n",
    "print(\"PROBABILITY OF CHARACTERISTIC is : \",s)                     # (1/2^7)"
   ]
  },
  {
   "cell_type": "code",
   "execution_count": 41,
   "id": "a5a9727e",
   "metadata": {},
   "outputs": [
    {
     "data": {
      "text/plain": [
       "0.0078125"
      ]
     },
     "execution_count": 41,
     "metadata": {},
     "output_type": "execute_result"
    }
   ],
   "source": [
    "1/128"
   ]
  },
  {
   "cell_type": "code",
   "execution_count": null,
   "id": "fb5e23fa",
   "metadata": {},
   "outputs": [],
   "source": []
  }
 ],
 "metadata": {
  "kernelspec": {
   "display_name": "Python 3",
   "language": "python",
   "name": "python3"
  },
  "language_info": {
   "codemirror_mode": {
    "name": "ipython",
    "version": 3
   },
   "file_extension": ".py",
   "mimetype": "text/x-python",
   "name": "python",
   "nbconvert_exporter": "python",
   "pygments_lexer": "ipython3",
   "version": "3.8.8"
  }
 },
 "nbformat": 4,
 "nbformat_minor": 5
}
