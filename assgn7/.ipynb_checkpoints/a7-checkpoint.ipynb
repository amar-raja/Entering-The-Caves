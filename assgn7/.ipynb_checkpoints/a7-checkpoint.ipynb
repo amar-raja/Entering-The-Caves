{
 "cells": [
  {
   "cell_type": "code",
   "execution_count": null,
   "id": "f14e06dc",
   "metadata": {},
   "outputs": [],
   "source": [
    "from sys import setrecursionlimit\n",
    "\n",
    "setrecursionlimit(10**6)\n",
    "found=False \n",
    "def f(i,s,p,c):\n",
    "    if i==20:return 1 if s==0 else 0\n",
    "    if (i,s,c) in dp:return dp[i,s,c]\n",
    "    ans=0\n",
    "    for j in range(c,118):\n",
    "        ans+=f(i+1,(s - (j**p)%127)%127,p,j)\n",
    "    dp[i,s,c]=ans \n",
    "    return ans \n",
    "cc=0\n",
    "z=[]\n",
    "x=[int(i) for i in \"20 25 76 83 76 125 27 9 117 41 13 60 114 26 89 103 1 23 13 100 101 2 4 78 39 72 36 90 2 64 49 32\".split()]\n",
    "res=[]\n",
    "for i in range(32):\n",
    "    dp={}\n",
    "    res.append((i,f(0,x[i],i,102)))\n",
    "res.sort(reverse=True,key=lambda i:i[1])\n",
    "print(res)"
   ]
  },
  {
   "cell_type": "code",
   "execution_count": null,
   "id": "6df174e9",
   "metadata": {},
   "outputs": [],
   "source": [
    "from sys import setrecursionlimit\n",
    "def check():\n",
    "    for i in range(len(x)):\n",
    "        zzz=0\n",
    "        for a in z:\n",
    "            zzz=(zzz+((a**i))%127)%127\n",
    "        if zzz!=x[i]:return False \n",
    "    return True\n",
    "setrecursionlimit(10**6)\n",
    "found=False \n",
    "def func(i,s,p,c):\n",
    "    global cc , found \n",
    "    if found:return    \n",
    "    if i==20:\n",
    "        if s==0:\n",
    "            cc+=1 \n",
    "            print(cc,end='\\r')\n",
    "            if check():\n",
    "                found=True \n",
    "                password=\"\"\n",
    "                for i in z:\n",
    "                    password+=chr(i)\n",
    "                print(\"\\nFound\\nPassword is: \"+password)\n",
    "        return \n",
    "    if not dp[i,s,c]:return \n",
    "    for j in range(c,118):\n",
    "        z[i]= j \n",
    "        func(i+1,(s - (j**p)%127)%127,p,j)\n",
    "def f(i,s,p,c):\n",
    "    if i==20:return True if s==0 else False\n",
    "    if (i,s,c) in dp:return dp[i,s,c]\n",
    "    ans=False \n",
    "    for j in range(c,118):\n",
    "        ans=f(i+1,(s - (j**p)%127)%127,p,j) or ans \n",
    "    dp[i,s,c]=ans \n",
    "    return dp[i,s,c]\n",
    "cc=0\n",
    "z=[0 for i in range(20)]\n",
    "x=[int(i) for i in \"20 25 76 83 76 125 27 9 117 41 13 60 114 26 89 103 1 23 13 100 101 2 4 78 39 72 36 90 2 64 49 32\".split()]\n",
    "res=[]\n",
    "dp={}\n",
    "f(0,41,9,102)\n",
    "func(0,41,9,102)"
   ]
  },
  {
   "cell_type": "code",
   "execution_count": null,
   "id": "df3b66e9",
   "metadata": {},
   "outputs": [],
   "source": []
  }
 ],
 "metadata": {
  "kernelspec": {
   "display_name": "Python 3 (ipykernel)",
   "language": "python",
   "name": "python3"
  },
  "language_info": {
   "codemirror_mode": {
    "name": "ipython",
    "version": 3
   },
   "file_extension": ".py",
   "mimetype": "text/x-python",
   "name": "python",
   "nbconvert_exporter": "python",
   "pygments_lexer": "ipython3",
   "version": "3.9.7"
  }
 },
 "nbformat": 4,
 "nbformat_minor": 5
}
