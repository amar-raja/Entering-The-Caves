{
 "cells": [
  {
   "cell_type": "code",
   "execution_count": 1,
   "id": "a7c07dba",
   "metadata": {},
   "outputs": [],
   "source": [
    "from sys import setrecursionlimit"
   ]
  },
  {
   "cell_type": "code",
   "execution_count": 2,
   "id": "33721c55",
   "metadata": {},
   "outputs": [],
   "source": [
    "def check():\n",
    "    for i in range(len(x)):                   # all hash val\n",
    "        zzz=0                                 #sum equal to resp hash val\n",
    "        for a in z:\n",
    "            zzz=(zzz+((a**i))%127)%127\n",
    "        if zzz!=x[i]:return False \n",
    "    return True"
   ]
  },
  {
   "cell_type": "code",
   "execution_count": 3,
   "id": "45f279ee",
   "metadata": {},
   "outputs": [],
   "source": [
    "setrecursionlimit(10**6)"
   ]
  },
  {
   "cell_type": "code",
   "execution_count": 4,
   "id": "5b790d9c",
   "metadata": {},
   "outputs": [],
   "source": [
    "found=False \n",
    "cc=0"
   ]
  },
  {
   "cell_type": "code",
   "execution_count": 5,
   "id": "fe2314e2",
   "metadata": {},
   "outputs": [],
   "source": [
    "def f(i,j):\n",
    "    global found,cc \n",
    "    if i==20:\n",
    "        cc+=1 \n",
    "        print(cc,end='\\r')\n",
    "        if check():\n",
    "            \n",
    "            print('found')\n",
    "            print(z)\n",
    "            found=True \n",
    "        return\n",
    "    if found:return\n",
    "    for k in range(j,118):               #all letters b/w f and u\n",
    "        z[i]=k                           #  fixing that pos \n",
    "        f(i+1,k)                       #start next letter from \"k\""
   ]
  },
  {
   "cell_type": "code",
   "execution_count": 6,
   "id": "43997079",
   "metadata": {},
   "outputs": [],
   "source": [
    "x=[int(i) for i in \"20 25 76 83 76 125 27 9 117 41 13 60 114 26 89 103 1 23 13 100 101 2 4 78 39 72 36 90 2 64 49 32\".split()]\n",
    "z=[102 for i in range(20)]            #all f's    (102 to 117)"
   ]
  },
  {
   "cell_type": "code",
   "execution_count": 7,
   "id": "36a10cde",
   "metadata": {},
   "outputs": [],
   "source": [
    "# f(0,102)                          #(pos,letter)"
   ]
  },
  {
   "cell_type": "code",
   "execution_count": 13,
   "id": "9802dc31",
   "metadata": {},
   "outputs": [
    {
     "data": {
      "text/plain": [
       "117"
      ]
     },
     "execution_count": 13,
     "metadata": {},
     "output_type": "execute_result"
    }
   ],
   "source": [
    "ord('u')"
   ]
  }
 ],
 "metadata": {
  "kernelspec": {
   "display_name": "Python 3 (ipykernel)",
   "language": "python",
   "name": "python3"
  },
  "language_info": {
   "codemirror_mode": {
    "name": "ipython",
    "version": 3
   },
   "file_extension": ".py",
   "mimetype": "text/x-python",
   "name": "python",
   "nbconvert_exporter": "python",
   "pygments_lexer": "ipython3",
   "version": "3.9.7"
  }
 },
 "nbformat": 4,
 "nbformat_minor": 5
}
