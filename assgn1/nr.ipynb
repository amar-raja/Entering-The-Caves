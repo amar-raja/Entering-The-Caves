{
 "cells": [
  {
   "cell_type": "code",
   "execution_count": 10,
   "metadata": {},
   "outputs": [],
   "source": [
    "from random import randint \n",
    "from math import log \n",
    "def score():\n",
    "    sc=0\n",
    "    for i in range(len(s)-3):\n",
    "        z=''    #term\n",
    "        for j in range(4):\n",
    "            if s[i+j] in ind:\n",
    "                z+=key[ind[s[i+j]]]\n",
    "            else:\n",
    "                z+=s[i+j]\n",
    "        if z in quad:\n",
    "            sc+=log(quad[z]/n,10)\n",
    "    return sc"
   ]
  },
  {
   "cell_type": "code",
   "execution_count": 11,
   "metadata": {},
   "outputs": [
    {
     "name": "stdout",
     "output_type": "stream",
     "text": [
      "['e', 't', 's', 'i', 'h', 'o', 'a', 'r', 'n', 'c', 'm', 'b', 'u', 'f', 'd', 'g', 'l', 'p', 'w', 'k', 'q', 'v', 'j', 'y', 'z', 'x']\n",
      "irst ch amb eroft hecaves .A sko ucanse e, the rei snot hingo fi nterest in thechamb er .So meofthel ater ch amb erswi llbemore inte re stin gthanthison e!Th ecod euse dfo rthi smes sag eisa simples ub s tituti oncipherinwh ichdig it shave beensh ifte dbk2 places. Th e passwor dis iRqk9U1q dg twithoutthe quotes. Thi sisthef\n"
     ]
    }
   ],
   "source": [
    "quad={}\n",
    "f=open(\"english_quadgrams.txt\")\n",
    "for i in f:\n",
    "    a,b=i.split()\n",
    "    quad[a.lower()]=int(b)\n",
    "n=len(quad)\n",
    "st=\"omkf pi hdn cmgef icphsck .H krg vphqkc c, fic mco kqgf ioqag eo qfcmckf oq ficpihdn cm .Kg dcgeficu hfcm pi hdn cmklo uuncdgmc oqfc mc kfoq afihqfiokgq c!Fi cpgy cvkc yeg mfio kdck kha cokh kodjuck vn k fofvfo gqpojicmoqli opiyoa of kihsc nccqki oefc ynr2 juhpck. Fi c jhkklgm yok oMxr9V1x ya flofigvffic xvgfck. Fio kokfice\"\n",
    "s=st.lower()            #cipher_text\n",
    "\n",
    "f={}                       #alphabets\n",
    "for i in range(26):\n",
    "    f[chr(i+97)]=0\n",
    "for i in s:\n",
    "    if ord(i)>=97 and ord(i)<=122:\n",
    "        f[i]+=1\n",
    "        \n",
    "f=list(f.items())\n",
    "f.sort(reverse=True,key=lambda i:i[1])\n",
    "ind={}\n",
    "for i in range(len(f)):\n",
    "    ind[f[i][0]]=i \n",
    "key='etaoinshrdlucmwfygpbvkxjqz'\n",
    "key=list(key)\n",
    "sc=score()\n",
    "\n",
    "for _ in range(10000):\n",
    "    a=randint(0,len(key)-1)\n",
    "    b=randint(0,len(key)-1)\n",
    "    key[a],key[b]=key[b],key[a]\n",
    "    new_sc=score()\n",
    "    \n",
    "    if new_sc>sc:\n",
    "        sc=new_sc\n",
    "    else:\n",
    "        key[a],key[b]=key[b],key[a]\n",
    "r=''\n",
    "for i in range(len(s)):\n",
    "    if s[i] in ind:\n",
    "        z=key[ind[s[i]]] \n",
    "        if ord(st[i])>=97 and ord(st[i])<=122:\n",
    "            pass \n",
    "        else:\n",
    "            z=z.upper()\n",
    "        r+=z\n",
    "    else:\n",
    "        r+=s[i]\n",
    "        \n",
    "print(key)\n",
    "print(r)"
   ]
  },
  {
   "cell_type": "code",
   "execution_count": null,
   "metadata": {},
   "outputs": [],
   "source": []
  }
 ],
 "metadata": {
  "kernelspec": {
   "display_name": "Python 3",
   "language": "python",
   "name": "python3"
  },
  "language_info": {
   "codemirror_mode": {
    "name": "ipython",
    "version": 3
   },
   "file_extension": ".py",
   "mimetype": "text/x-python",
   "name": "python",
   "nbconvert_exporter": "python",
   "pygments_lexer": "ipython3",
   "version": "3.8.8"
  }
 },
 "nbformat": 4,
 "nbformat_minor": 2
}
