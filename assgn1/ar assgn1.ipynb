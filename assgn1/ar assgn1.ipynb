{
 "cells": [
  {
   "cell_type": "code",
   "execution_count": 1,
   "id": "1c0ccc43",
   "metadata": {},
   "outputs": [],
   "source": [
    "from random import randint\n",
    "from math import log "
   ]
  },
  {
   "cell_type": "code",
   "execution_count": 2,
   "id": "da8aa20e",
   "metadata": {},
   "outputs": [],
   "source": [
    "#SCORE FUNCTION\n",
    "\n",
    "def score():\n",
    "    sc = 0     #score\n",
    "    \n",
    "    #FOR EACH POSSIBLE QUARDGRAM IN CIPHERTEXT\n",
    "    for i in range(len(cipher_text)-3) :      #as last three letters cannot form quadgram\n",
    "        term = \"\"\n",
    "        \n",
    "        for j in range(4):    #quadgram_size\n",
    "            letter = cipher_text[i+j]\n",
    "            if letter in ind :    #DEALING WITH ONLY ALPHABTES in ciphertext\n",
    "                term += key[ind[letter]]             #REPLACING WITH  RESPECTIVE KEY LETTER and CONCATINATING to string \"term\"\n",
    "        \n",
    "        if term in quad:\n",
    "            sc += log(quad[term]/n,10)\n",
    "    return sc"
   ]
  },
  {
   "cell_type": "code",
   "execution_count": 24,
   "id": "4abe01d6",
   "metadata": {},
   "outputs": [],
   "source": [
    "#CREATING A DICTIONARY FOR QUADGRAMS\n",
    "quad ={}\n",
    "\n",
    "#READING FILE\n",
    "file = open(\"english_quadgrams.txt\")\n",
    "for i in file:\n",
    "    a,b = i.split()\n",
    "    quad[a.lower()] = int(b)\n",
    "\n",
    "#LENGTH OF THE QUADGRAM DICTIONARY\n",
    "n = len(quad)"
   ]
  },
  {
   "cell_type": "code",
   "execution_count": 25,
   "id": "a03b8e0d",
   "metadata": {},
   "outputs": [],
   "source": [
    "#CIPHER TEXT\n",
    "cipher=\"omkf pi hdn cmgef icphsck .H krg vphqkc c, fic mco kqgf ioqag eo qfcmckf oq ficpihdn cm .Kg dcgeficu hfcm pi hdn cmklo uuncdgmc oqfc mc kfoq afihqfiokgq c!Fi cpgy cvkc yeg mfio kdck kha cokh kodjuck vn k fofvfo gqpojicmoqli opiyoa of kihsc nccqki oefc ynr2 juhpck. Fi c jhkklgm yok oMxr9V1x ya flofigvffic xvgfck. Fio kokfice\"\n",
    "cipher_text=cipher.lower()"
   ]
  },
  {
   "cell_type": "code",
   "execution_count": 26,
   "id": "7d07531c",
   "metadata": {},
   "outputs": [],
   "source": [
    "alphabets = {}\n",
    "#ALL ALPHABETS\n",
    "for i in range(26):\n",
    "    alphabets[chr(i+97)] = 0\n",
    "\n",
    "#CALCULATING FREQUENCY OF EACH LETTER IN CIPHERTEXT\n",
    "for i in cipher_text:\n",
    "    if ord(i)>=97 and ord(i)<=122:\n",
    "        alphabets[i]+=1\n",
    "\n",
    "#converting into a list\n",
    "alphabets = list(alphabets.items())\n",
    "#SORTING ON FREQUNCIES\n",
    "alphabets.sort(reverse=True, key = lambda i:i[1])"
   ]
  },
  {
   "cell_type": "code",
   "execution_count": 27,
   "id": "eb57ddbf",
   "metadata": {},
   "outputs": [],
   "source": [
    "#WE ASSIGN A PRIORITY TO EACH LETTER BASED ON ITS ABOVE FREQUENCIES (LIKE INDEX)\n",
    "ind={}\n",
    "for i in range(len(alphabets)):\n",
    "    ind[alphabets[i][0]]=i \n",
    "\n",
    "#ind"
   ]
  },
  {
   "cell_type": "markdown",
   "id": "38d1bfcd",
   "metadata": {},
   "source": [
    "ALGORITHM STARTS NOW"
   ]
  },
  {
   "cell_type": "code",
   "execution_count": 30,
   "id": "053437e0",
   "metadata": {},
   "outputs": [],
   "source": [
    "#INITIAL KEY\n",
    "key='etaoinshrdlucmwfygpbvkxjqz'\n",
    "key=list(key)\n",
    "\n",
    "#SCORE\n",
    "sc = score()\n",
    "\n",
    "#PERFORMING ITERATIVELY \n",
    "\n",
    "for _ in range(12000):\n",
    "    #TWO RANDOM INDICES \n",
    "    a = randint(0,len(key)-1)\n",
    "    b = randint(0,len(key)-1)\n",
    "    \n",
    "    #SWAPPING LETTERS IN THE KEY\n",
    "    key[a],key[b] = key[b],key[a]\n",
    "    \n",
    "    #NEWSCORE\n",
    "    new_sc=score()\n",
    "    \n",
    "    if new_sc>sc:         #IF OPTIMAL\n",
    "        sc=new_sc\n",
    "    else:                #ELSE REVERSE THE ABOVE SWAP\n",
    "        key[a],key[b]=key[b],key[a]\n",
    "    \n"
   ]
  },
  {
   "cell_type": "markdown",
   "id": "2824abf5",
   "metadata": {},
   "source": [
    "PERFORMING SUBSTITUTION ON CIPHERTEXT WITH THE KEY"
   ]
  },
  {
   "cell_type": "code",
   "execution_count": 31,
   "id": "55d449d3",
   "metadata": {},
   "outputs": [
    {
     "name": "stdout",
     "output_type": "stream",
     "text": [
      "['e', 't', 's', 'i', 'h', 'o', 'a', 'r', 'n', 'c', 'm', 'b', 'u', 'f', 'd', 'g', 'l', 'p', 'w', 'z', 'q', 'v', 'j', 'x', 'k', 'y']\n",
      "irst ch amb eroft hecaves .A szo ucanse e, the rei snot hingo fi nterest in thechamb er .So meofthel ater ch amb erswi llbemore inte re stin gthanthison e!Th ecod euse dfo rthi smes sag eisa simples ub s tituti oncipherinwh ichdig it shave beensh ifte dbz2 places. Th e passwor dis iRqz9U1q dg twithoutthe quotes. Thi sisthef\n"
     ]
    }
   ],
   "source": [
    "plain_text = \"\"\n",
    "\n",
    "for i in range(len(cipher_text)):\n",
    "    if cipher_text[i] in ind :       #DEALING WITH ONLY ALPHABTES in ciphertext\n",
    "        z=key[ind[cipher_text[i]]]\n",
    "        \n",
    "        if ord(cipher[i])>=97 and ord(cipher[i])<=122:\n",
    "            pass \n",
    "        else:\n",
    "            z=z.upper()\n",
    "        \n",
    "        plain_text+=z\n",
    "        \n",
    "    else:                        #other characters\n",
    "        plain_text+=cipher[i]\n",
    "\n",
    "        \n",
    "# key[19] = 'y'\n",
    "print(key)\n",
    "print(plain_text)"
   ]
  },
  {
   "cell_type": "code",
   "execution_count": 32,
   "id": "0af5865a",
   "metadata": {},
   "outputs": [],
   "source": [
    "#  last 4 letters differ in each run  (j,x,y,z)"
   ]
  },
  {
   "cell_type": "markdown",
   "id": "2e262901",
   "metadata": {},
   "source": [
    "MANUAL CORRECTIONS"
   ]
  },
  {
   "cell_type": "code",
   "execution_count": 33,
   "id": "788408e6",
   "metadata": {},
   "outputs": [],
   "source": [
    "#REPLACING 19th index(\"z\") to \"y\"\n",
    "key[19] = 'y'"
   ]
  },
  {
   "cell_type": "code",
   "execution_count": 40,
   "id": "80e56b47",
   "metadata": {},
   "outputs": [],
   "source": [
    "#DIGITS ARE MOVED BY 6 places      \n",
    "cipher = cipher.replace('2','6')         #(9-6 = 3)\n",
    "cipher = cipher.replace('9','3')         #(9-6 = 3)\n",
    "cipher = cipher.replace('1','5')         #(1-6 = 5)\n"
   ]
  },
  {
   "cell_type": "code",
   "execution_count": 41,
   "id": "97c3a431",
   "metadata": {},
   "outputs": [
    {
     "name": "stdout",
     "output_type": "stream",
     "text": [
      "['e', 't', 's', 'i', 'h', 'o', 'a', 'r', 'n', 'c', 'm', 'b', 'u', 'f', 'd', 'g', 'l', 'p', 'w', 'y', 'q', 'v', 'j', 'x', 'k', 'y']\n",
      "irst ch amb eroft hecaves .A syo ucanse e, the rei snot hingo fi nterest in thechamb er .So meofthel ater ch amb erswi llbemore inte re stin gthanthison e!Th ecod euse dfo rthi smes sag eisa simples ub s tituti oncipherinwh ichdig it shave beensh ifte dby6 places. Th e passwor dis iRqy3U5q dg twithoutthe quotes. Thi sisthef\n"
     ]
    }
   ],
   "source": [
    "plain_text = \"\"\n",
    "\n",
    "for i in range(len(cipher_text)):\n",
    "    if cipher_text[i] in ind :       #DEALING WITH ONLY ALPHABTES in ciphertext\n",
    "        z=key[ind[cipher_text[i]]]\n",
    "        \n",
    "        if ord(cipher[i])>=97 and ord(cipher[i])<=122:\n",
    "            pass \n",
    "        else:\n",
    "            z=z.upper()\n",
    "        \n",
    "        plain_text+=z\n",
    "        \n",
    "    else:                        #other characters\n",
    "        plain_text+=cipher[i]\n",
    "\n",
    "\n",
    "print(key)\n",
    "print(plain_text)"
   ]
  },
  {
   "cell_type": "code",
   "execution_count": null,
   "id": "6fff2359",
   "metadata": {},
   "outputs": [],
   "source": []
  },
  {
   "cell_type": "code",
   "execution_count": null,
   "id": "61ac0657",
   "metadata": {},
   "outputs": [],
   "source": []
  },
  {
   "cell_type": "code",
   "execution_count": 46,
   "id": "f3ce798a",
   "metadata": {},
   "outputs": [
    {
     "name": "stdout",
     "output_type": "stream",
     "text": [
      "26\n"
     ]
    }
   ],
   "source": [
    "# d1 ={}\n",
    "# l1=['c','f','k','o','i','g','h','m','q','p','d','n','v','e','y','a','u','j','l','r','x','s','b','t','w','z']\n",
    "\n",
    "# for i in range(26):\n",
    "#     d1[l1[i]] = key[i]\n",
    "\n",
    "# n = sorted(d1.items(), key =\n",
    "#              lambda kv:(kv[0]))\n",
    "\n",
    "# for i in n:\n",
    "#     print(i[1]+\"\\space\",end='| ')"
   ]
  },
  {
   "cell_type": "code",
   "execution_count": null,
   "id": "01d7da7e",
   "metadata": {},
   "outputs": [],
   "source": []
  }
 ],
 "metadata": {
  "kernelspec": {
   "display_name": "Python 3 (ipykernel)",
   "language": "python",
   "name": "python3"
  },
  "language_info": {
   "codemirror_mode": {
    "name": "ipython",
    "version": 3
   },
   "file_extension": ".py",
   "mimetype": "text/x-python",
   "name": "python",
   "nbconvert_exporter": "python",
   "pygments_lexer": "ipython3",
   "version": "3.9.7"
  }
 },
 "nbformat": 4,
 "nbformat_minor": 5
}
